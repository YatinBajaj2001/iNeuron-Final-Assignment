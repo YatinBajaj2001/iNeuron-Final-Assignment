{
  "nbformat": 4,
  "nbformat_minor": 0,
  "metadata": {
    "colab": {
      "provenance": []
    },
    "kernelspec": {
      "name": "python3",
      "display_name": "Python 3"
    },
    "language_info": {
      "name": "python"
    }
  },
  "cells": [
    {
      "cell_type": "markdown",
      "source": [
        "### **Q9**"
      ],
      "metadata": {
        "id": "d-VpZDUveYe1"
      }
    },
    {
      "cell_type": "code",
      "source": [
        "import speech_recognition as sr\n",
        "from gtts import gTTS\n",
        "import os\n",
        "from pydub import AudioSegment\n",
        "\n",
        "# Function to transcribe audio file to text\n",
        "def transcribe_audio(audio_file):\n",
        "    r = sr.Recognizer()\n",
        "\n",
        "    # Load audio file\n",
        "    with sr.AudioFile(audio_file) as source:\n",
        "        audio = r.record(source)\n",
        "\n",
        "    # Transcribe audio to text\n",
        "    text = r.recognize_google(audio)\n",
        "\n",
        "    return text\n",
        "\n",
        "# Function to convert text to audio file in a different language\n",
        "def convert_text_to_audio(text, language):\n",
        "    tts = gTTS(text=text, lang=language)\n",
        "    audio_file = 'output.mp3'\n",
        "    tts.save(audio_file)\n",
        "    return audio_file\n",
        "\n",
        "# Main program\n",
        "if __name__ == '__main__':\n",
        "    # Convert MP3 audio file to WAV format\n",
        "    audio_file = '/content/testaudio-check.mp3'\n",
        "    wav_file = 'input_audio.wav'\n",
        "    AudioSegment.from_mp3(audio_file).export(wav_file, format='wav')\n",
        "\n",
        "    # Transcribe audio file to text\n",
        "    transcribed_text = transcribe_audio(wav_file)\n",
        "\n",
        "    print('Transcribed Text:', transcribed_text)\n",
        "\n",
        "    # Convert transcribed text to audio in a different language\n",
        "    converted_audio_file = convert_text_to_audio(transcribed_text, 'fr')  # Specify the language code for the desired language\n",
        "\n",
        "    print('Audio File Converted Successfully:', converted_audio_file)\n",
        "\n",
        "    # Clean up temporary WAV file\n",
        "    os.remove(wav_file)"
      ],
      "metadata": {
        "colab": {
          "base_uri": "https://localhost:8080/"
        },
        "id": "DK6UV-52tF9J",
        "outputId": "4d670681-48c1-4cd5-c0f7-1d2ff5aee1d8"
      },
      "execution_count": 29,
      "outputs": [
        {
          "output_type": "stream",
          "name": "stdout",
          "text": [
            "Transcribed Text: hello everyone my name is Andrew and my name is Anna and your list\n",
            "Audio File Converted Successfully: output.mp3\n"
          ]
        }
      ]
    },
    {
      "cell_type": "code",
      "source": [],
      "metadata": {
        "id": "9GtpSAyXt1e8"
      },
      "execution_count": null,
      "outputs": []
    }
  ]
}