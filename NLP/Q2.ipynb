{
  "nbformat": 4,
  "nbformat_minor": 0,
  "metadata": {
    "colab": {
      "provenance": []
    },
    "kernelspec": {
      "name": "python3",
      "display_name": "Python 3"
    },
    "language_info": {
      "name": "python"
    }
  },
  "cells": [
    {
      "cell_type": "markdown",
      "source": [
        "## **Q2**"
      ],
      "metadata": {
        "id": "d-VpZDUveYe1"
      }
    },
    {
      "cell_type": "code",
      "source": [
        "import csv\n",
        "from collections import Counter\n",
        "import PyPDF2\n",
        "import nltk\n",
        "from nltk.corpus import stopwords\n",
        "from nltk.tokenize import word_tokenize\n",
        "\n",
        "# Set up NLTK\n",
        "nltk.download('stopwords')\n",
        "nltk.download('punkt')\n",
        "stop_words = set(stopwords.words('english'))\n",
        "\n",
        "# PDF file path\n",
        "pdf_file = '/sample.pdf'\n",
        "\n",
        "# Extract text from PDF\n",
        "def extract_text_from_pdf(file_path):\n",
        "    text = ''\n",
        "    with open(file_path, 'rb') as file:\n",
        "        reader = PyPDF2.PdfReader(file)\n",
        "        for page in reader.pages:\n",
        "            text += page.extract_text()\n",
        "    return text\n",
        "\n",
        "# Preprocess text\n",
        "def preprocess_text(text):\n",
        "    # Tokenize text\n",
        "    tokens = word_tokenize(text)\n",
        "\n",
        "    # Remove stopwords and non-alphabetic characters, and convert to lowercase\n",
        "    words = [word.lower() for word in tokens if word.isalpha() and word.lower() not in stop_words]\n",
        "\n",
        "    return words\n",
        "\n",
        "# Find most repeated word\n",
        "def find_most_repeated_word(words):\n",
        "    word_count = Counter(words)\n",
        "    most_common_word = word_count.most_common(1)[0][0]\n",
        "    return most_common_word\n",
        "\n",
        "# Save text to CSV\n",
        "def save_text_to_csv(text, file_path):\n",
        "    with open(file_path, 'w', encoding='utf-8', newline='') as file:\n",
        "        writer = csv.writer(file)\n",
        "        writer.writerow(['Text'])\n",
        "        writer.writerow([text])\n",
        "\n",
        "# Main program\n",
        "if __name__ == '__main__':\n",
        "    # Extract text from PDF\n",
        "    pdf_text = extract_text_from_pdf(pdf_file)\n",
        "\n",
        "    # Preprocess text\n",
        "    preprocessed_text = preprocess_text(pdf_text)\n",
        "\n",
        "    # Find most repeated word\n",
        "    most_repeated_word = find_most_repeated_word(preprocessed_text)\n",
        "\n",
        "    # Save text to CSV\n",
        "    save_text_to_csv(pdf_text, '/output.csv')\n",
        "\n",
        "    print(f\"Most repeated word: {most_repeated_word}\")"
      ],
      "metadata": {
        "colab": {
          "base_uri": "https://localhost:8080/"
        },
        "id": "XVnGJVyYlC6U",
        "outputId": "49d09de0-d3c9-47fe-d4f5-8f8f3328bf43"
      },
      "execution_count": 13,
      "outputs": [
        {
          "output_type": "stream",
          "name": "stdout",
          "text": [
            "Most repeated word: text\n"
          ]
        },
        {
          "output_type": "stream",
          "name": "stderr",
          "text": [
            "[nltk_data] Downloading package stopwords to /root/nltk_data...\n",
            "[nltk_data]   Package stopwords is already up-to-date!\n",
            "[nltk_data] Downloading package punkt to /root/nltk_data...\n",
            "[nltk_data]   Package punkt is already up-to-date!\n"
          ]
        }
      ]
    },
    {
      "cell_type": "code",
      "source": [],
      "metadata": {
        "id": "lJ1B1wy-m5Zv"
      },
      "execution_count": null,
      "outputs": []
    }
  ]
}