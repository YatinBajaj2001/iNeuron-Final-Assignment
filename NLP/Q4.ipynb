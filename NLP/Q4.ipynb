{
  "nbformat": 4,
  "nbformat_minor": 0,
  "metadata": {
    "colab": {
      "provenance": []
    },
    "kernelspec": {
      "name": "python3",
      "display_name": "Python 3"
    },
    "language_info": {
      "name": "python"
    }
  },
  "cells": [
    {
      "cell_type": "markdown",
      "source": [
        "## **Q4**"
      ],
      "metadata": {
        "id": "d-VpZDUveYe1"
      }
    },
    {
      "cell_type": "code",
      "source": [
        "import nltk\n",
        "from nltk.corpus import stopwords\n",
        "nltk.download('punkt')\n",
        "nltk.download('stopwords')\n",
        "from nltk.tokenize import sent_tokenize, word_tokenize\n",
        "from sklearn.feature_extraction.text import TfidfVectorizer\n",
        "\n",
        "# Function to calculate sentence scores using TF-IDF\n",
        "def calculate_sentence_scores(sentences, tfidf_matrix):\n",
        "    sentence_scores = {}\n",
        "    for i, sentence in enumerate(sentences):\n",
        "        score = tfidf_matrix[i].sum()  # Sum the TF-IDF values for each sentence\n",
        "        sentence_scores[sentence] = score\n",
        "    return sentence_scores\n",
        "\n",
        "# Function to perform text summarization\n",
        "def summarize_text(text, num_sentences):\n",
        "    sentences = sent_tokenize(text)\n",
        "\n",
        "    # Tokenize words and remove stopwords\n",
        "    words = [word.lower() for word in word_tokenize(text) if word.isalpha()]\n",
        "    stop_words = set(stopwords.words(\"english\"))\n",
        "    words = [word for word in words if word not in stop_words]\n",
        "\n",
        "    # Create TF-IDF vectorizer\n",
        "    vectorizer = TfidfVectorizer()\n",
        "    tfidf_matrix = vectorizer.fit_transform(sentences)\n",
        "\n",
        "    # Calculate sentence scores\n",
        "    sentence_scores = calculate_sentence_scores(sentences, tfidf_matrix)\n",
        "\n",
        "    # Sort sentence scores in descending order\n",
        "    sorted_sentences = sorted(sentence_scores.items(), key=lambda x: x[1], reverse=True)\n",
        "\n",
        "    # Select top N sentences for summarization\n",
        "    num_sentences = min(num_sentences, len(sentences))\n",
        "    summary_sentences = sorted_sentences[:num_sentences]\n",
        "\n",
        "    # Construct the summary\n",
        "    summary = \" \".join([sentence for sentence, _ in summary_sentences])\n",
        "    return summary\n",
        "\n",
        "# Get the text file path and number of sentences for the summary from the user\n",
        "text_file_path = 'test2.txt'\n",
        "# input(\"Enter the path of the text file: \")\n",
        "num_sentences = int(input(\"Enter the number of sentences for the summary: \"))\n",
        "\n",
        "# Read the text from the file\n",
        "with open(text_file_path, 'r') as file:\n",
        "    text = file.read()\n",
        "\n",
        "# Perform text summarization\n",
        "summary = summarize_text(text, num_sentences)\n",
        "\n",
        "# Print the summary\n",
        "print(\"Summary:\")\n",
        "print(summary)"
      ],
      "metadata": {
        "colab": {
          "base_uri": "https://localhost:8080/"
        },
        "id": "pDx8nZh0n7j5",
        "outputId": "207b2ace-5073-4071-e5da-eb9e33b57985"
      },
      "execution_count": 16,
      "outputs": [
        {
          "output_type": "stream",
          "name": "stderr",
          "text": [
            "[nltk_data] Downloading package punkt to /root/nltk_data...\n",
            "[nltk_data]   Package punkt is already up-to-date!\n",
            "[nltk_data] Downloading package stopwords to /root/nltk_data...\n",
            "[nltk_data]   Package stopwords is already up-to-date!\n"
          ]
        },
        {
          "output_type": "stream",
          "name": "stdout",
          "text": [
            "Enter the number of sentences for the summary: 10\n",
            "Summary:\n",
            "Many scientists believe the main four reasons for Global Warming, according to recent studies, are:\n",
            "\n",
            "Greenhouse gases\n",
            "\n",
            "Deforestation\n",
            "\n",
            "Pollution\n",
            "\n",
            "Per capita carbon emissions\n",
            "\n",
            "Global Warming is certainly an alarming situation, which is causing a significant impact on life existence. Here is some data that can help to give a more precise understanding of the reality of Global Warming in the last few years:\n",
            "\n",
            "On average, the world’s temperature is about 1.5°C higher than during the start of the industrial revolution in the late 1700s. Especially during the early modern period from the early 16th century to as far as the late 18the century, also commonly referred to as “The Scientific Revolution” or “The Enlightenment”, modern technology leapt ahead in development in such a short time frame compared to all of history. To understand the concept of Global Warming and its causes and effects, we need to take an in-depth look into many factors that affect the temperature of the planet and what that means for the future of the world. Additionally, at the state or government level, world leaders need to create concrete plans and step programmes to ensure that no further harm is being caused to the environment in general. Climate change is not just the rise or fall of temperature of different areas of the world; it is also a change in the rain cycles, wind patterns, cyclone frequencies, sea levels, etc. Simply put, as the need for consumption of the population increases, both the utilisation of natural resources and the waste generated from the use of said resources have also increased massively. Some of which can be controlled personally by individuals but others are only expected to be solved by communities and the world leaders and activists at the global level. Solution for Global Warming\n",
            "Global Warming can not be blamed on individuals; however, it can be tackled and maintained from worsening starting at the individual level. In 1950, the world’s CO2 emissions were at 6 billion tonnes which had quadrupled in volume until 1990, just 40 years later to 22 billion tonnes.\n"
          ]
        }
      ]
    },
    {
      "cell_type": "code",
      "source": [],
      "metadata": {
        "id": "tsWCz4eHowe_"
      },
      "execution_count": null,
      "outputs": []
    }
  ]
}