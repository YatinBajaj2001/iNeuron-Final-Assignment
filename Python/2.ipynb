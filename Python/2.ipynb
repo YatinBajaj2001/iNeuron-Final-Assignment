{
 "cells": [
  {
   "cell_type": "code",
   "execution_count": 12,
   "metadata": {},
   "outputs": [],
   "source": [
    "from collections import Counter\n",
    "\n",
    "def is_valid_string(s):\n",
    "    frequencies = Counter(s)\n",
    "    values = list(frequencies.values())\n",
    "\n",
    "    if len(set(values)) == 1:\n",
    "        return values, \"YES\"\n",
    "\n",
    "    for i in range(len(s)):\n",
    "        char = s[i]\n",
    "        frequencies[char] -= 1\n",
    "        remaining_values = list(frequencies.values())\n",
    "\n",
    "        if len(set(remaining_values)) == 1:\n",
    "            return values, \"YES\"\n",
    "\n",
    "        # Revert the frequency change to try the next character\n",
    "        frequencies[char] += 1\n",
    "\n",
    "    return values, \"NO\"\n"
   ]
  },
  {
   "cell_type": "code",
   "execution_count": 14,
   "metadata": {},
   "outputs": [
    {
     "name": "stdout",
     "output_type": "stream",
     "text": [
      "Test case 1\n",
      "Input : aabbccc\n",
      "Output : YES\n",
      "Explanation : The characters occured [2, 2, 3] times\n",
      "\n",
      "Test case 2\n",
      "Input : aabbbcccc\n",
      "Output : NO\n",
      "Explanation : The characters occured [2, 3, 4] times\n"
     ]
    }
   ],
   "source": [
    "print(\"Test case 1\")\n",
    "inp = \"aabbccc\"\n",
    "print(f\"Input : {inp}\")\n",
    "freq, res = is_valid_string(inp)\n",
    "print(f\"Output : {res}\")\n",
    "print(f\"Explanation : The characters occured {freq} times\")\n",
    "\n",
    "print(\"\\nTest case 2\")\n",
    "inp = \"aabbbcccc\"\n",
    "print(f\"Input : {inp}\")\n",
    "freq, res = is_valid_string(inp)\n",
    "print(f\"Output : {res}\")\n",
    "print(f\"Explanation : The characters occured {freq} times\")"
   ]
  },
  {
   "cell_type": "code",
   "execution_count": null,
   "metadata": {},
   "outputs": [],
   "source": []
  }
 ],
 "metadata": {
  "kernelspec": {
   "display_name": "Python 3",
   "language": "python",
   "name": "python3"
  },
  "language_info": {
   "codemirror_mode": {
    "name": "ipython",
    "version": 3
   },
   "file_extension": ".py",
   "mimetype": "text/x-python",
   "name": "python",
   "nbconvert_exporter": "python",
   "pygments_lexer": "ipython3",
   "version": "3.9.6"
  },
  "orig_nbformat": 4
 },
 "nbformat": 4,
 "nbformat_minor": 2
}
