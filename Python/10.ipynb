{
 "cells": [
  {
   "cell_type": "code",
   "execution_count": 3,
   "metadata": {},
   "outputs": [
    {
     "name": "stderr",
     "output_type": "stream",
     "text": [
      "[nltk_data] Downloading package averaged_perceptron_tagger to\n",
      "[nltk_data]     C:\\Users\\bajaj\\AppData\\Roaming\\nltk_data...\n",
      "[nltk_data]   Unzipping taggers\\averaged_perceptron_tagger.zip.\n"
     ]
    },
    {
     "data": {
      "text/plain": [
       "True"
      ]
     },
     "execution_count": 3,
     "metadata": {},
     "output_type": "execute_result"
    }
   ],
   "source": [
    "import nltk\n",
    "from nltk.tokenize import word_tokenize\n",
    "from nltk.tag import pos_tag\n",
    "\n",
    "nltk.download('averaged_perceptron_tagger')\n",
    "\n"
   ]
  },
  {
   "cell_type": "code",
   "execution_count": 4,
   "metadata": {},
   "outputs": [
    {
     "name": "stdout",
     "output_type": "stream",
     "text": [
      "Count of POS categories in text 1:\n",
      "{'Verbs': 2, 'Nouns': 1, 'Pronouns': 1, 'Adjectives': 1}\n",
      "\n",
      "Count of POS categories in text 2:\n",
      "{'Verbs': 1, 'Nouns': 2, 'Pronouns': 0, 'Adjectives': 0}\n",
      "\n",
      "Count of POS categories in text 3:\n",
      "{'Verbs': 1, 'Nouns': 1, 'Pronouns': 1, 'Adjectives': 2}\n"
     ]
    }
   ],
   "source": [
    "\n",
    "def count_pos(text):\n",
    "    \"\"\"\n",
    "    Count the number of verbs, nouns, pronouns, and adjectives in a given text.\n",
    "\n",
    "    Args:\n",
    "    - text: The input text to analyze.\n",
    "\n",
    "    Returns:\n",
    "    - pos_count: A dictionary containing the count of each POS category.\n",
    "    \"\"\"\n",
    "\n",
    "    # Tokenize the text into words\n",
    "    words = word_tokenize(text)\n",
    "\n",
    "    # Perform POS tagging on the words\n",
    "    tagged_words = pos_tag(words)\n",
    "\n",
    "    # Initialize count variables\n",
    "    verb_count = 0\n",
    "    noun_count = 0\n",
    "    pronoun_count = 0\n",
    "    adjective_count = 0\n",
    "\n",
    "    # Count the number of words in each POS category\n",
    "    for word, pos in tagged_words:\n",
    "        if pos.startswith('VB'):  # Verbs\n",
    "            verb_count += 1\n",
    "        elif pos.startswith('NN'):  # Nouns\n",
    "            noun_count += 1\n",
    "        elif pos.startswith('PR'):  # Pronouns\n",
    "            pronoun_count += 1\n",
    "        elif pos.startswith('JJ'):  # Adjectives\n",
    "            adjective_count += 1\n",
    "\n",
    "    # Create a dictionary to store the counts\n",
    "    pos_count = {\n",
    "        'Verbs': verb_count,\n",
    "        'Nouns': noun_count,\n",
    "        'Pronouns': pronoun_count,\n",
    "        'Adjectives': adjective_count\n",
    "    }\n",
    "\n",
    "    return pos_count\n",
    "\n",
    "\n",
    "# Test Cases\n",
    "text1 = \"I love eating delicious food.\"\n",
    "pos_count1 = count_pos(text1)\n",
    "print(\"Count of POS categories in text 1:\")\n",
    "print(pos_count1)\n",
    "\n",
    "text2 = \"The cat chased the mouse.\"\n",
    "pos_count2 = count_pos(text2)\n",
    "print(\"\\nCount of POS categories in text 2:\")\n",
    "print(pos_count2)\n",
    "\n",
    "text3 = \"He is a tall and intelligent person.\"\n",
    "pos_count3 = count_pos(text3)\n",
    "print(\"\\nCount of POS categories in text 3:\")\n",
    "print(pos_count3)"
   ]
  },
  {
   "cell_type": "code",
   "execution_count": null,
   "metadata": {},
   "outputs": [],
   "source": []
  }
 ],
 "metadata": {
  "kernelspec": {
   "display_name": "Python 3",
   "language": "python",
   "name": "python3"
  },
  "language_info": {
   "codemirror_mode": {
    "name": "ipython",
    "version": 3
   },
   "file_extension": ".py",
   "mimetype": "text/x-python",
   "name": "python",
   "nbconvert_exporter": "python",
   "pygments_lexer": "ipython3",
   "version": "3.9.6"
  },
  "orig_nbformat": 4
 },
 "nbformat": 4,
 "nbformat_minor": 2
}
