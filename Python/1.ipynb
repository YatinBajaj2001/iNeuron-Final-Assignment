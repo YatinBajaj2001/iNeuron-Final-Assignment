{
 "cells": [
  {
   "cell_type": "code",
   "execution_count": 11,
   "metadata": {},
   "outputs": [],
   "source": [
    "from collections import Counter\n",
    "\n",
    "def count_word_frequency(string):\n",
    "    # Split the string into words\n",
    "    words = string.split()\n",
    "\n",
    "    # Count the frequency of each word\n",
    "    word_frequency = Counter(words)\n",
    "\n",
    "    # Find the highest frequency\n",
    "    highest_frequency = max(word_frequency.values())\n",
    "\n",
    "    # Find the longest word(s) with the highest frequency\n",
    "    longest_words = [word for word, frequency in word_frequency.items() if frequency == highest_frequency]\n",
    "    longest_word_length = len(max(longest_words, key=len))\n",
    "\n",
    "    return longest_words, longest_word_length\n"
   ]
  },
  {
   "cell_type": "code",
   "execution_count": 15,
   "metadata": {},
   "outputs": [
    {
     "name": "stdout",
     "output_type": "stream",
     "text": [
      "Test case 1\n",
      "Length of the highest-frequency word: 7\n",
      "Explanation: The highest frequency words are ['Peter', 'Piper', 'peck', 'of', 'pickled', 'peppers'] and the max word length is 7\n",
      "\n",
      "Test case 2\n",
      "Length of the highest-frequency word: 9\n",
      "Explanation: The highest frequency words are ['a', 'woodchuck', 'chuck'] and the max word length is 9\n"
     ]
    }
   ],
   "source": [
    "# Testing the function\n",
    "print(\"Test case 1\")\n",
    "input_string1 = \"Peter Piper picked a peck of pickled peppers A peck of pickled peppers Peter Piper picked If Peter Piper picked a peck of pickled peppers Wheres the peck of pickled peppers Peter Piper picked?\"\n",
    "result, length = count_word_frequency(input_string1)\n",
    "print(\"Length of the highest-frequency word:\", length)\n",
    "print(f\"Explanation: The highest frequency words are {result} and the max word length is {length}\")\n",
    "\n",
    "print(\"\\nTest case 2\")\n",
    "input_string2 = '''How much wood would a woodchuck chuck if a woodchuck could chuck wood?\n",
    "He would chuck, he would, as much as he could, and chuck as much wood\n",
    "As a woodchuck would if a woodchuck could chuck wood'''\n",
    "result, length = count_word_frequency(input_string2)\n",
    "print(\"Length of the highest-frequency word:\", length)\n",
    "print(f\"Explanation: The highest frequency words are {result} and the max word length is {length}\")"
   ]
  },
  {
   "cell_type": "code",
   "execution_count": null,
   "metadata": {},
   "outputs": [],
   "source": []
  }
 ],
 "metadata": {
  "kernelspec": {
   "display_name": "Python 3",
   "language": "python",
   "name": "python3"
  },
  "language_info": {
   "codemirror_mode": {
    "name": "ipython",
    "version": 3
   },
   "file_extension": ".py",
   "mimetype": "text/x-python",
   "name": "python",
   "nbconvert_exporter": "python",
   "pygments_lexer": "ipython3",
   "version": "3.9.6"
  },
  "orig_nbformat": 4
 },
 "nbformat": 4,
 "nbformat_minor": 2
}
