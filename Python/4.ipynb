{
 "cells": [
  {
   "cell_type": "code",
   "execution_count": 6,
   "metadata": {},
   "outputs": [
    {
     "name": "stdout",
     "output_type": "stream",
     "text": [
      "Data successfully exported to 'meteorite_data.csv'.\n"
     ]
    }
   ],
   "source": [
    "import requests\n",
    "import json\n",
    "import csv\n",
    "\n",
    "def download_data(url):\n",
    "    response = requests.get(url)\n",
    "    data = response.json()\n",
    "    return data\n",
    "\n",
    "def restructure_data(data):\n",
    "    structured_data = []\n",
    "    for entry in data:\n",
    "        meteorite = {\n",
    "            'Name of Earth Meteorite': entry.get('name', ''),\n",
    "            'ID of Earth Meteorite': int(entry.get('id', 0)),\n",
    "            'Meteorite': entry.get('nametype', ''),\n",
    "            'recclass': entry.get('recclass', ''),\n",
    "            'Mass of Earth Meteorite': float(entry.get('mass', 0.0)),\n",
    "            'Year at which Earth Meteorite was hit': entry.get('year', ''),\n",
    "            'reclat': float(entry.get('reclat', 0.0)),\n",
    "            'reclong': float(entry.get('reclong', 0.0)),\n",
    "        }\n",
    "        structured_data.append(meteorite)\n",
    "    return structured_data\n",
    "\n",
    "\n",
    "import codecs\n",
    "\n",
    "def export_to_csv(data, filename):\n",
    "    fieldnames = data[0].keys()\n",
    "\n",
    "    with codecs.open(filename, 'w', encoding='utf-8', errors='replace') as file:\n",
    "        writer = csv.DictWriter(file, fieldnames=fieldnames)\n",
    "\n",
    "        writer.writeheader()\n",
    "        writer.writerows(data)\n",
    "\n",
    "\n",
    "# Download the data from the provided link\n",
    "url = 'https://data.nasa.gov/resource/y77d-th95.json'\n",
    "downloaded_data = download_data(url)\n",
    "\n",
    "# Restructure the downloaded data\n",
    "structured_data = restructure_data(downloaded_data)\n",
    "\n",
    "# Export the structured data to a CSV file\n",
    "csv_filename = 'meteorite_data.csv'\n",
    "export_to_csv(structured_data, csv_filename)\n",
    "\n",
    "print(f\"Data successfully exported to '{csv_filename}'.\")\n"
   ]
  },
  {
   "cell_type": "code",
   "execution_count": null,
   "metadata": {},
   "outputs": [],
   "source": []
  }
 ],
 "metadata": {
  "kernelspec": {
   "display_name": "Python 3",
   "language": "python",
   "name": "python3"
  },
  "language_info": {
   "codemirror_mode": {
    "name": "ipython",
    "version": 3
   },
   "file_extension": ".py",
   "mimetype": "text/x-python",
   "name": "python",
   "nbconvert_exporter": "python",
   "pygments_lexer": "ipython3",
   "version": "3.9.6"
  },
  "orig_nbformat": 4
 },
 "nbformat": 4,
 "nbformat_minor": 2
}
