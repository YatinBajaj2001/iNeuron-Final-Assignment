{
 "cells": [
  {
   "cell_type": "code",
   "execution_count": 1,
   "metadata": {},
   "outputs": [],
   "source": [
    "import pandas as pd\n",
    "import matplotlib.pyplot as plt\n",
    "\n",
    "# Read the data from the CSV file using the provided link\n",
    "data_url = 'https://data.wa.gov/api/views/f6w7-q2d2/rows.csv?accessType=DOWNLOAD'\n",
    "df = pd.read_csv(data_url)\n"
   ]
  },
  {
   "cell_type": "code",
   "execution_count": 3,
   "metadata": {},
   "outputs": [
    {
     "data": {
      "text/html": [
       "<div>\n",
       "<style scoped>\n",
       "    .dataframe tbody tr th:only-of-type {\n",
       "        vertical-align: middle;\n",
       "    }\n",
       "\n",
       "    .dataframe tbody tr th {\n",
       "        vertical-align: top;\n",
       "    }\n",
       "\n",
       "    .dataframe thead th {\n",
       "        text-align: right;\n",
       "    }\n",
       "</style>\n",
       "<table border=\"1\" class=\"dataframe\">\n",
       "  <thead>\n",
       "    <tr style=\"text-align: right;\">\n",
       "      <th></th>\n",
       "      <th>VIN (1-10)</th>\n",
       "      <th>County</th>\n",
       "      <th>City</th>\n",
       "      <th>State</th>\n",
       "      <th>Postal Code</th>\n",
       "      <th>Model Year</th>\n",
       "      <th>Make</th>\n",
       "      <th>Model</th>\n",
       "      <th>Electric Vehicle Type</th>\n",
       "      <th>Clean Alternative Fuel Vehicle (CAFV) Eligibility</th>\n",
       "      <th>Electric Range</th>\n",
       "      <th>Base MSRP</th>\n",
       "      <th>Legislative District</th>\n",
       "      <th>DOL Vehicle ID</th>\n",
       "      <th>Vehicle Location</th>\n",
       "      <th>Electric Utility</th>\n",
       "      <th>2020 Census Tract</th>\n",
       "    </tr>\n",
       "  </thead>\n",
       "  <tbody>\n",
       "    <tr>\n",
       "      <th>0</th>\n",
       "      <td>5YJXCAE26J</td>\n",
       "      <td>Yakima</td>\n",
       "      <td>Yakima</td>\n",
       "      <td>WA</td>\n",
       "      <td>98908.0</td>\n",
       "      <td>2018</td>\n",
       "      <td>TESLA</td>\n",
       "      <td>MODEL X</td>\n",
       "      <td>Battery Electric Vehicle (BEV)</td>\n",
       "      <td>Clean Alternative Fuel Vehicle Eligible</td>\n",
       "      <td>238</td>\n",
       "      <td>0</td>\n",
       "      <td>14.0</td>\n",
       "      <td>141151601</td>\n",
       "      <td>POINT (-120.56916 46.58514)</td>\n",
       "      <td>PACIFICORP</td>\n",
       "      <td>5.307700e+10</td>\n",
       "    </tr>\n",
       "    <tr>\n",
       "      <th>1</th>\n",
       "      <td>JHMZC5F37M</td>\n",
       "      <td>Kitsap</td>\n",
       "      <td>Poulsbo</td>\n",
       "      <td>WA</td>\n",
       "      <td>98370.0</td>\n",
       "      <td>2021</td>\n",
       "      <td>HONDA</td>\n",
       "      <td>CLARITY</td>\n",
       "      <td>Plug-in Hybrid Electric Vehicle (PHEV)</td>\n",
       "      <td>Clean Alternative Fuel Vehicle Eligible</td>\n",
       "      <td>47</td>\n",
       "      <td>0</td>\n",
       "      <td>23.0</td>\n",
       "      <td>171566447</td>\n",
       "      <td>POINT (-122.64681 47.73689)</td>\n",
       "      <td>PUGET SOUND ENERGY INC</td>\n",
       "      <td>5.303509e+10</td>\n",
       "    </tr>\n",
       "    <tr>\n",
       "      <th>2</th>\n",
       "      <td>5YJ3E1EB0K</td>\n",
       "      <td>King</td>\n",
       "      <td>Seattle</td>\n",
       "      <td>WA</td>\n",
       "      <td>98199.0</td>\n",
       "      <td>2019</td>\n",
       "      <td>TESLA</td>\n",
       "      <td>MODEL 3</td>\n",
       "      <td>Battery Electric Vehicle (BEV)</td>\n",
       "      <td>Clean Alternative Fuel Vehicle Eligible</td>\n",
       "      <td>220</td>\n",
       "      <td>0</td>\n",
       "      <td>36.0</td>\n",
       "      <td>9426525</td>\n",
       "      <td>POINT (-122.40092 47.65908)</td>\n",
       "      <td>CITY OF SEATTLE - (WA)|CITY OF TACOMA - (WA)</td>\n",
       "      <td>5.303301e+10</td>\n",
       "    </tr>\n",
       "    <tr>\n",
       "      <th>3</th>\n",
       "      <td>1N4AZ0CP5D</td>\n",
       "      <td>King</td>\n",
       "      <td>Seattle</td>\n",
       "      <td>WA</td>\n",
       "      <td>98119.0</td>\n",
       "      <td>2013</td>\n",
       "      <td>NISSAN</td>\n",
       "      <td>LEAF</td>\n",
       "      <td>Battery Electric Vehicle (BEV)</td>\n",
       "      <td>Clean Alternative Fuel Vehicle Eligible</td>\n",
       "      <td>75</td>\n",
       "      <td>0</td>\n",
       "      <td>36.0</td>\n",
       "      <td>211807760</td>\n",
       "      <td>POINT (-122.3684 47.64586)</td>\n",
       "      <td>CITY OF SEATTLE - (WA)|CITY OF TACOMA - (WA)</td>\n",
       "      <td>5.303301e+10</td>\n",
       "    </tr>\n",
       "    <tr>\n",
       "      <th>4</th>\n",
       "      <td>5YJSA1E21H</td>\n",
       "      <td>Thurston</td>\n",
       "      <td>Lacey</td>\n",
       "      <td>WA</td>\n",
       "      <td>98516.0</td>\n",
       "      <td>2017</td>\n",
       "      <td>TESLA</td>\n",
       "      <td>MODEL S</td>\n",
       "      <td>Battery Electric Vehicle (BEV)</td>\n",
       "      <td>Clean Alternative Fuel Vehicle Eligible</td>\n",
       "      <td>210</td>\n",
       "      <td>0</td>\n",
       "      <td>22.0</td>\n",
       "      <td>185810306</td>\n",
       "      <td>POINT (-122.75379 47.06316)</td>\n",
       "      <td>PUGET SOUND ENERGY INC</td>\n",
       "      <td>5.306701e+10</td>\n",
       "    </tr>\n",
       "  </tbody>\n",
       "</table>\n",
       "</div>"
      ],
      "text/plain": [
       "   VIN (1-10)    County     City State  Postal Code  Model Year    Make  \\\n",
       "0  5YJXCAE26J    Yakima   Yakima    WA      98908.0        2018   TESLA   \n",
       "1  JHMZC5F37M    Kitsap  Poulsbo    WA      98370.0        2021   HONDA   \n",
       "2  5YJ3E1EB0K      King  Seattle    WA      98199.0        2019   TESLA   \n",
       "3  1N4AZ0CP5D      King  Seattle    WA      98119.0        2013  NISSAN   \n",
       "4  5YJSA1E21H  Thurston    Lacey    WA      98516.0        2017   TESLA   \n",
       "\n",
       "     Model                   Electric Vehicle Type  \\\n",
       "0  MODEL X          Battery Electric Vehicle (BEV)   \n",
       "1  CLARITY  Plug-in Hybrid Electric Vehicle (PHEV)   \n",
       "2  MODEL 3          Battery Electric Vehicle (BEV)   \n",
       "3     LEAF          Battery Electric Vehicle (BEV)   \n",
       "4  MODEL S          Battery Electric Vehicle (BEV)   \n",
       "\n",
       "  Clean Alternative Fuel Vehicle (CAFV) Eligibility  Electric Range  \\\n",
       "0           Clean Alternative Fuel Vehicle Eligible             238   \n",
       "1           Clean Alternative Fuel Vehicle Eligible              47   \n",
       "2           Clean Alternative Fuel Vehicle Eligible             220   \n",
       "3           Clean Alternative Fuel Vehicle Eligible              75   \n",
       "4           Clean Alternative Fuel Vehicle Eligible             210   \n",
       "\n",
       "   Base MSRP  Legislative District  DOL Vehicle ID  \\\n",
       "0          0                  14.0       141151601   \n",
       "1          0                  23.0       171566447   \n",
       "2          0                  36.0         9426525   \n",
       "3          0                  36.0       211807760   \n",
       "4          0                  22.0       185810306   \n",
       "\n",
       "              Vehicle Location                              Electric Utility  \\\n",
       "0  POINT (-120.56916 46.58514)                                    PACIFICORP   \n",
       "1  POINT (-122.64681 47.73689)                        PUGET SOUND ENERGY INC   \n",
       "2  POINT (-122.40092 47.65908)  CITY OF SEATTLE - (WA)|CITY OF TACOMA - (WA)   \n",
       "3   POINT (-122.3684 47.64586)  CITY OF SEATTLE - (WA)|CITY OF TACOMA - (WA)   \n",
       "4  POINT (-122.75379 47.06316)                        PUGET SOUND ENERGY INC   \n",
       "\n",
       "   2020 Census Tract  \n",
       "0       5.307700e+10  \n",
       "1       5.303509e+10  \n",
       "2       5.303301e+10  \n",
       "3       5.303301e+10  \n",
       "4       5.306701e+10  "
      ]
     },
     "execution_count": 3,
     "metadata": {},
     "output_type": "execute_result"
    }
   ],
   "source": [
    "df.head()"
   ]
  },
  {
   "cell_type": "code",
   "execution_count": 4,
   "metadata": {},
   "outputs": [
    {
     "data": {
      "text/plain": [
       "array(['Clean Alternative Fuel Vehicle Eligible',\n",
       "       'Not eligible due to low battery range',\n",
       "       'Eligibility unknown as battery range has not been researched'],\n",
       "      dtype=object)"
      ]
     },
     "execution_count": 4,
     "metadata": {},
     "output_type": "execute_result"
    }
   ],
   "source": [
    "df[\"Clean Alternative Fuel Vehicle (CAFV) Eligibility\"].unique()"
   ]
  },
  {
   "cell_type": "code",
   "execution_count": 8,
   "metadata": {},
   "outputs": [
    {
     "name": "stdout",
     "output_type": "stream",
     "text": [
      "Cars and their types that do not qualify for clean alternative fuel vehicle:\n",
      "Plug-in Hybrid Electric Vehicle (PHEV)\n",
      "Battery Electric Vehicle (BEV)\n"
     ]
    }
   ],
   "source": [
    "# Get all the cars and their types that do not qualify for clean alternative fuel vehicle\n",
    "non_clean_cars = df[df['Clean Alternative Fuel Vehicle (CAFV) Eligibility'] != 'Clean Alternative Fuel Vehicle Eligible']\n",
    "non_clean_car_types = non_clean_cars['Electric Vehicle Type'].unique()\n",
    "print(\"Cars and their types that do not qualify for clean alternative fuel vehicle:\")\n",
    "for car_type in non_clean_car_types:\n",
    "    print(car_type)\n"
   ]
  },
  {
   "cell_type": "code",
   "execution_count": 12,
   "metadata": {},
   "outputs": [
    {
     "name": "stdout",
     "output_type": "stream",
     "text": [
      "\n",
      "TESLA cars with the model year and model type made in Bothell City:\n",
      "        Model Year    Model\n",
      "39            2020  MODEL 3\n",
      "217           2022  MODEL 3\n",
      "218           2022  MODEL Y\n",
      "222           2018  MODEL 3\n",
      "292           2017  MODEL X\n",
      "...            ...      ...\n",
      "129778        2019  MODEL 3\n",
      "129954        2021  MODEL 3\n",
      "129976        2014  MODEL S\n",
      "130295        2022  MODEL 3\n",
      "130392        2018  MODEL 3\n",
      "\n",
      "[2407 rows x 2 columns]\n"
     ]
    }
   ],
   "source": [
    "# Get all TESLA cars with the model year, and model type made in Bothell City\n",
    "tesla_cars_bothell = df[(df['Make'] == 'TESLA') & (df['City'] == 'Bothell')]\n",
    "tesla_cars_bothell_info = tesla_cars_bothell[['Model Year', 'Model']]\n",
    "print(\"\\nTESLA cars with the model year and model type made in Bothell City:\")\n",
    "print(tesla_cars_bothell_info)\n"
   ]
  },
  {
   "cell_type": "code",
   "execution_count": 10,
   "metadata": {},
   "outputs": [
    {
     "name": "stdout",
     "output_type": "stream",
     "text": [
      "\n",
      "Cars with an electric range greater than 100 and made after 2015:\n",
      "        VIN (1-10)    County           City State  Postal Code  Model Year  \\\n",
      "0       5YJXCAE26J    Yakima         Yakima    WA      98908.0        2018   \n",
      "2       5YJ3E1EB0K      King        Seattle    WA      98199.0        2019   \n",
      "4       5YJSA1E21H  Thurston          Lacey    WA      98516.0        2017   \n",
      "12      5YJ3E1EC7L  Thurston          Lacey    WA      98503.0        2020   \n",
      "13      5YJ3E1EB2L  Thurston        Olympia    WA      98516.0        2020   \n",
      "...            ...       ...            ...   ...          ...         ...   \n",
      "130417  5YJYGDEE5L    Pierce         Tacoma    WA      98444.0        2020   \n",
      "130428  1N4AZ1CP0J   Clallam         Sequim    WA      98382.0        2018   \n",
      "130432  5YJYGDEEXL      King         Vashon    WA      98070.0        2020   \n",
      "130436  5YJ3E1EB0J   Whatcom         Blaine    WA      98230.0        2018   \n",
      "130441  5YJXCBE22L    Island  Camano Island    WA      98282.0        2020   \n",
      "\n",
      "          Make    Model           Electric Vehicle Type  \\\n",
      "0        TESLA  MODEL X  Battery Electric Vehicle (BEV)   \n",
      "2        TESLA  MODEL 3  Battery Electric Vehicle (BEV)   \n",
      "4        TESLA  MODEL S  Battery Electric Vehicle (BEV)   \n",
      "12       TESLA  MODEL 3  Battery Electric Vehicle (BEV)   \n",
      "13       TESLA  MODEL 3  Battery Electric Vehicle (BEV)   \n",
      "...        ...      ...                             ...   \n",
      "130417   TESLA  MODEL Y  Battery Electric Vehicle (BEV)   \n",
      "130428  NISSAN     LEAF  Battery Electric Vehicle (BEV)   \n",
      "130432   TESLA  MODEL Y  Battery Electric Vehicle (BEV)   \n",
      "130436   TESLA  MODEL 3  Battery Electric Vehicle (BEV)   \n",
      "130441   TESLA  MODEL X  Battery Electric Vehicle (BEV)   \n",
      "\n",
      "       Clean Alternative Fuel Vehicle (CAFV) Eligibility  Electric Range  \\\n",
      "0                Clean Alternative Fuel Vehicle Eligible             238   \n",
      "2                Clean Alternative Fuel Vehicle Eligible             220   \n",
      "4                Clean Alternative Fuel Vehicle Eligible             210   \n",
      "12               Clean Alternative Fuel Vehicle Eligible             308   \n",
      "13               Clean Alternative Fuel Vehicle Eligible             322   \n",
      "...                                                  ...             ...   \n",
      "130417           Clean Alternative Fuel Vehicle Eligible             291   \n",
      "130428           Clean Alternative Fuel Vehicle Eligible             151   \n",
      "130432           Clean Alternative Fuel Vehicle Eligible             291   \n",
      "130436           Clean Alternative Fuel Vehicle Eligible             215   \n",
      "130441           Clean Alternative Fuel Vehicle Eligible             293   \n",
      "\n",
      "        Base MSRP  Legislative District  DOL Vehicle ID  \\\n",
      "0               0                  14.0       141151601   \n",
      "2               0                  36.0         9426525   \n",
      "4               0                  22.0       185810306   \n",
      "12              0                  22.0         2135486   \n",
      "13              0                  22.0       124645363   \n",
      "...           ...                   ...             ...   \n",
      "130417          0                  29.0       112591538   \n",
      "130428          0                  24.0       290405174   \n",
      "130432          0                  34.0       112734723   \n",
      "130436          0                  42.0       103521302   \n",
      "130441          0                  10.0       102834938   \n",
      "\n",
      "                                     Vehicle Location  \\\n",
      "0                         POINT (-120.56916 46.58514)   \n",
      "2                         POINT (-122.40092 47.65908)   \n",
      "4                         POINT (-122.75379 47.06316)   \n",
      "12                        POINT (-122.82324 47.04437)   \n",
      "13                        POINT (-122.75379 47.06316)   \n",
      "...                                               ...   \n",
      "130417                    POINT (-122.46495 47.16778)   \n",
      "130428  POINT (-123.09968999999995 48.08137000000005)   \n",
      "130432                     POINT (-122.4573 47.44929)   \n",
      "130436                    POINT (-122.74888 48.99404)   \n",
      "130441                    POINT (-122.40049 48.23986)   \n",
      "\n",
      "                                         Electric Utility  2020 Census Tract  \n",
      "0                                              PACIFICORP       5.307700e+10  \n",
      "2            CITY OF SEATTLE - (WA)|CITY OF TACOMA - (WA)       5.303301e+10  \n",
      "4                                  PUGET SOUND ENERGY INC       5.306701e+10  \n",
      "12                                 PUGET SOUND ENERGY INC       5.306701e+10  \n",
      "13                                 PUGET SOUND ENERGY INC       5.306701e+10  \n",
      "...                                                   ...                ...  \n",
      "130417  BONNEVILLE POWER ADMINISTRATION||CITY OF TACOM...       5.305306e+10  \n",
      "130428  BONNEVILLE POWER ADMINISTRATION||PUD NO 1 OF C...       5.300900e+10  \n",
      "130432      PUGET SOUND ENERGY INC||CITY OF TACOMA - (WA)       5.303303e+10  \n",
      "130436  PUGET SOUND ENERGY INC||PUD NO 1 OF WHATCOM CO...       5.307301e+10  \n",
      "130441  BONNEVILLE POWER ADMINISTRATION||PUD 1 OF SNOH...       5.302997e+10  \n",
      "\n",
      "[34066 rows x 17 columns]\n"
     ]
    }
   ],
   "source": [
    "# Get all the cars that have an electric range of more than 100, and were made after 2015\n",
    "electric_cars_range_gt_100 = df[(df['Electric Range'] > 100) & (df['Model Year'] > 2015)]\n",
    "print(\"\\nCars with an electric range greater than 100 and made after 2015:\")\n",
    "print(electric_cars_range_gt_100)\n",
    "\n"
   ]
  },
  {
   "cell_type": "code",
   "execution_count": 13,
   "metadata": {},
   "outputs": [
    {
     "data": {
      "text/plain": [
       "<Figure size 2160x864 with 0 Axes>"
      ]
     },
     "metadata": {},
     "output_type": "display_data"
    },
    {
     "data": {
      "image/png": "[encoded data removed]",
      "text/plain": [
       "<Figure size 432x288 with 1 Axes>"
      ]
     },
     "metadata": {
      "needs_background": "light"
     },
     "output_type": "display_data"
    }
   ],
   "source": [
    "# Draw plots to show the distribution between city and electric vehicle type\n",
    "plt.figure(figsize=(30, 12))\n",
    "city_ev_type_counts = df.groupby(['City', 'Electric Vehicle Type']).size().unstack()\n",
    "city_ev_type_counts.plot(kind='bar', stacked=True)\n",
    "plt.title('Distribution of City and Electric Vehicle Type')\n",
    "plt.xlabel('City')\n",
    "plt.ylabel('Count')\n",
    "plt.legend(title='Electric Vehicle Type')\n",
    "plt.show()"
   ]
  },
  {
   "cell_type": "code",
   "execution_count": null,
   "metadata": {},
   "outputs": [],
   "source": []
  }
 ],
 "metadata": {
  "kernelspec": {
   "display_name": "Python 3",
   "language": "python",
   "name": "python3"
  },
  "language_info": {
   "codemirror_mode": {
    "name": "ipython",
    "version": 3
   },
   "file_extension": ".py",
   "mimetype": "text/x-python",
   "name": "python",
   "nbconvert_exporter": "python",
   "pygments_lexer": "ipython3",
   "version": "3.9.6"
  },
  "orig_nbformat": 4
 },
 "nbformat": 4,
 "nbformat_minor": 2
}
